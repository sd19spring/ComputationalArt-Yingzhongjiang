{
 "cells": [
  {
   "cell_type": "markdown",
   "metadata": {},
   "source": [
    "From a process point of view, what went well? What could you improve? Other possible reflection topics: Was your project appropriately scoped? Did you have a good plan for unit testing? How will you use what you learned going forward? What do you wish you knew before you started that would have helped you succeed?"
   ]
  },
  {
   "cell_type": "markdown",
   "metadata": {},
   "source": [
    "I felt braver when facing MP2; if I could go through Gene Finder, then anything is (relatively) possible! Although I was a little more adept in coding than when I first entered this class, I still find myself wrangling with code. Learning how to balance my time between this class and my other classes was a not easy. Next time I will be better at balancing my work schedule. Project's testing was pretty funky; I learned recursion is very convenient in coding (but sometimes counterintuitive), and float is just a floating object at the beginning of lines of code. I wish I had a better grasp on recursion before I started."
   ]
  }
 ],
 "metadata": {
  "kernelspec": {
   "display_name": "Python 3",
   "language": "python",
   "name": "python3"
  },
  "language_info": {
   "codemirror_mode": {
    "name": "ipython",
    "version": 3
   },
   "file_extension": ".py",
   "mimetype": "text/x-python",
   "name": "python",
   "nbconvert_exporter": "python",
   "pygments_lexer": "ipython3",
   "version": "3.6.7"
  }
 },
 "nbformat": 4,
 "nbformat_minor": 2
}
